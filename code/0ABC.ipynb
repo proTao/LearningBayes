{
 "cells": [
  {
   "cell_type": "code",
   "execution_count": 1,
   "metadata": {
    "collapsed": true
   },
   "outputs": [],
   "source": [
    "import brfss\n",
    "import thinkplot\n",
    "from thinkbayes2 import *\n",
    "import numpy as np\n",
    "from matplotlib import pyplot as plt"
   ]
  },
  {
   "cell_type": "code",
   "execution_count": 10,
   "metadata": {},
   "outputs": [],
   "source": [
    "nrows = None\n",
    "resp = brfss.ReadBrfss(nrows=nrows).dropna(subset=['sex', 'htm3'])\n",
    "groups = resp.groupby('sex')\n",
    "\n",
    "d = {}\n",
    "for name, group in groups:\n",
    "    d[name] = group.htm3.values\n",
    "\n",
    "labels = {1:'male', 2:'female'}"
   ]
  },
  {
   "cell_type": "code",
   "execution_count": 9,
   "metadata": {},
   "outputs": [
    {
     "data": {
      "text/plain": [
       "{1: array([ 170.,  185.,  183., ...,  191.,  178.,  178.]),\n",
       " 2: array([ 157.,  163.,  165., ...,  165.,  170.,  157.])}"
      ]
     },
     "execution_count": 9,
     "metadata": {},
     "output_type": "execute_result"
    }
   ],
   "source": []
  },
  {
   "cell_type": "code",
   "execution_count": null,
   "metadata": {
    "collapsed": true
   },
   "outputs": [],
   "source": []
  }
 ],
 "metadata": {
  "kernelspec": {
   "display_name": "Python 3",
   "language": "python",
   "name": "python3"
  },
  "language_info": {
   "codemirror_mode": {
    "name": "ipython",
    "version": 3
   },
   "file_extension": ".py",
   "mimetype": "text/x-python",
   "name": "python",
   "nbconvert_exporter": "python",
   "pygments_lexer": "ipython3",
   "version": "3.5.2"
  }
 },
 "nbformat": 4,
 "nbformat_minor": 2
}
