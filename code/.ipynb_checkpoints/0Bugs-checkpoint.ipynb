{
 "cells": [
  {
   "cell_type": "markdown",
   "metadata": {},
   "source": [
    "# Find Bugs"
   ]
  },
  {
   "cell_type": "markdown",
   "metadata": {},
   "source": [
    "**Exercise:** From [John D. Cook](http://www.johndcook.com/blog/2010/07/13/lincoln-index/)\n",
    "\n",
    "\"Suppose you have a tester who finds 20 bugs in your program. You want to estimate how many bugs are really in the program. You know there are at least 20 bugs, and if you have supreme confidence in your tester, you may suppose there are around 20 bugs. But maybe your tester isn't very good. Maybe there are hundreds of bugs. How can you have any idea how many bugs there are? There’s no way to know with one tester. But if you have two testers, you can get a good idea, even if you don’t know how skilled the testers are.\n",
    "\n",
    "Suppose two testers independently search for bugs. Let k1 be the number of errors the first tester finds and k2 the number of errors the second tester finds. Let c be the number of errors both testers find.  The Lincoln Index estimates the total number of errors as k1 k2 / c [I changed his notation to be consistent with mine].\"\n",
    "\n",
    "So if the first tester finds 20 bugs, the second finds 15, and they find 3 in common, we estimate that there are about 100 bugs.  What is the Bayesian estimate of the number of errors based on this data?"
   ]
  },
  {
   "cell_type": "code",
   "execution_count": 14,
   "metadata": {
    "collapsed": true
   },
   "outputs": [],
   "source": [
    "import thinkplot\n",
    "from thinkbayes2 import *\n",
    "import numpy as np\n",
    "from matplotlib import pyplot as plt\n",
    "from functools import reduce\n",
    "from operator import __mul__, __add__\n",
    "from math import log"
   ]
  },
  {
   "cell_type": "code",
   "execution_count": 120,
   "metadata": {},
   "outputs": [],
   "source": [
    "class Bugs(Joint, Suite):\n",
    "    def __init__(self, rate_sample_step, bugs_maybe):\n",
    "        Pmf.__init__(self)\n",
    "        for p1 in np.linspace(rate_sample_step, 1, int((1-rate_sample_step)/rate_sample_step), endpoint=False):\n",
    "            for p2 in np.linspace(rate_sample_step, 1, int((1-rate_sample_step)/rate_sample_step), endpoint=False):\n",
    "#         for p1 in np.linspace(0,1,31):\n",
    "#             for p2 in np.linspace(0,1,31):\n",
    "                for bugs in range(1,bugs_maybe+1,1):\n",
    "                    self.Set((p1,p2,bugs),1)\n",
    "        self.Normalize()\n",
    "    \n",
    "    def Likelihood(self, data, hypo):\n",
    "        p1, p2, bugs = hypo\n",
    "        find1, find2, both_find = data\n",
    "        try:\n",
    "            like = reduce(__mul__,\n",
    "                      scipy.stats.binom.pmf(k=[find1,both_find,find2-both_find], \n",
    "                                            n=[bugs,find1,bugs-find1], \n",
    "                                            p=[p1,p2,p2]))  \n",
    "            if like != like:\n",
    "                # n中有负数\n",
    "                return 0\n",
    "            else:\n",
    "                 return like   \n",
    "        except ValueError as e:\n",
    "            return 0\n",
    "    \n",
    "    def LogLikelihood(self, data, hypo):\n",
    "        p1, p2, bugs = hypo\n",
    "        find1, find2, both_find = data\n",
    "        \n",
    "        \n",
    "        \n",
    "        \n",
    "#         if find1 > bugs or find2 > bugs or find1 < both_find or find2 < both_find:\n",
    "#             return 0\n",
    "        try:\n",
    "            like = reduce(__add__,\n",
    "                      map(log,\n",
    "                      scipy.stats.binom.pmf(k=[find1,both_find,find2-both_find], \n",
    "                                        n=[bugs,find1,bugs-find1], \n",
    "                                        p=[p1,p2,p2])))\n",
    "            if like != like:\n",
    "                return -math.inf\n",
    "            else:\n",
    "                return like\n",
    "\n",
    "        except ValueError as e:\n",
    "#             print(hypo)\n",
    "#             print(data)\n",
    "#             print(scipy.stats.binom.pmf(k=[find1,both_find,find2-both_find], \n",
    "#                                             n=[bugs,find1,bugs-find1], \n",
    "#                                             p=[p1,p2,p2]))\n",
    "            return -math.inf\n",
    "\n",
    "    \n",
    "b = Bugs(0.05, 200)"
   ]
  },
  {
   "cell_type": "code",
   "execution_count": 121,
   "metadata": {},
   "outputs": [
    {
     "name": "stdout",
     "output_type": "stream",
     "text": [
      "0\n",
      "-16.58486899383497\n"
     ]
    }
   ],
   "source": [
    "# 测试\n",
    "a=b.Likelihood((15,20,3), (0.1,0.1,1))\n",
    "print(a)\n",
    "\n",
    "print(b.LogLikelihood((15,20,3), (0.6,0.4,50)))"
   ]
  },
  {
   "cell_type": "code",
   "execution_count": 122,
   "metadata": {},
   "outputs": [
    {
     "data": {
      "text/plain": [
       "1.548976031341949e-05"
      ]
     },
     "execution_count": 122,
     "metadata": {},
     "output_type": "execute_result"
    }
   ],
   "source": [
    "# b.Log()\n",
    "# b.LogUpdate((15,20,3))\n",
    "# b.Exp()\n",
    "# b.Normalize()\n",
    "\n",
    "b.Update((15,20,3))"
   ]
  },
  {
   "cell_type": "code",
   "execution_count": 123,
   "metadata": {},
   "outputs": [
    {
     "data": {
      "image/png": "[encoded data removed]",
      "text/plain": [
       "<matplotlib.figure.Figure at 0x7f1afc06d1d0>"
      ]
     },
     "metadata": {},
     "output_type": "display_data"
    }
   ],
   "source": [
    "n_marginal = b.Marginal(2)\n",
    "thinkplot.Pmf(n_marginal, label='n')\n",
    "thinkplot.Config(xlabel='number of bugs',\n",
    "                   ylabel='PMF')\n",
    "plt.show()"
   ]
  },
  {
   "cell_type": "markdown",
   "metadata": {},
   "source": [
    "**疑问**：为什么当p1,p2采样率小（比如0.1到1只取10个点时，图像有小鼓包"
   ]
  },
  {
   "cell_type": "code",
   "execution_count": 125,
   "metadata": {},
   "outputs": [
    {
     "name": "stdout",
     "output_type": "stream",
     "text": [
      "72\n",
      "96.64188008\n",
      "89\n"
     ]
    }
   ],
   "source": [
    "print(n_marginal.MAP())\n",
    "print(n_marginal.Mean())\n",
    "print(n_marginal.Median())"
   ]
  },
  {
   "cell_type": "code",
   "execution_count": null,
   "metadata": {
    "collapsed": true
   },
   "outputs": [],
   "source": []
  }
 ],
 "metadata": {
  "kernelspec": {
   "display_name": "Python 3",
   "language": "python",
   "name": "python3"
  },
  "language_info": {
   "codemirror_mode": {
    "name": "ipython",
    "version": 3
   },
   "file_extension": ".py",
   "mimetype": "text/x-python",
   "name": "python",
   "nbconvert_exporter": "python",
   "pygments_lexer": "ipython3",
   "version": "3.5.2"
  }
 },
 "nbformat": 4,
 "nbformat_minor": 2
}
